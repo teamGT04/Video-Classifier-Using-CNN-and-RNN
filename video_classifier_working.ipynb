{
 "cells": [
  {
   "cell_type": "markdown",
   "id": "64a42a09",
   "metadata": {},
   "source": [
    "# Video Classifier Using CNN and RNN\n",
    "#!dir"
   ]
  },
  {
   "cell_type": "code",
   "execution_count": 1,
   "id": "59b4b70e",
   "metadata": {},
   "outputs": [
    {
     "name": "stdout",
     "output_type": "stream",
     "text": [
      "['NonViolence', 'Violence']\n"
     ]
    }
   ],
   "source": [
    "import numpy as np \n",
    "import pandas as pd \n",
    "import matplotlib.pyplot as plt\n",
    "import os\n",
    "\n",
    "dataset_path = os.listdir('dataset/train')\n",
    "\n",
    "label_types = os.listdir('dataset/train')\n",
    "print (label_types)  "
   ]
  },
  {
   "cell_type": "markdown",
   "id": "935f06c4",
   "metadata": {},
   "source": [
    "# Preparing Training Data"
   ]
  },
  {
   "cell_type": "code",
   "execution_count": 2,
   "id": "d7e00542",
   "metadata": {},
   "outputs": [
    {
     "name": "stdout",
     "output_type": "stream",
     "text": [
      "           tag                             video_name\n",
      "0  NonViolence     dataset/train/NonViolence/NV_1.mp4\n",
      "1  NonViolence    dataset/train/NonViolence/NV_10.mp4\n",
      "2  NonViolence   dataset/train/NonViolence/NV_100.mp4\n",
      "3  NonViolence  dataset/train/NonViolence/NV_1000.mp4\n",
      "4  NonViolence   dataset/train/NonViolence/NV_101.mp4\n",
      "           tag                        video_name\n",
      "1995  Violence  dataset/train/Violence/V_995.mp4\n",
      "1996  Violence  dataset/train/Violence/V_996.mp4\n",
      "1997  Violence  dataset/train/Violence/V_997.mp4\n",
      "1998  Violence  dataset/train/Violence/V_998.mp4\n",
      "1999  Violence  dataset/train/Violence/V_999.mp4\n"
     ]
    }
   ],
   "source": [
    "rooms = []\n",
    "\n",
    "for item in dataset_path:\n",
    " # Get all the file names\n",
    " all_rooms = os.listdir('dataset/train' + '/' +item)\n",
    "\n",
    " # Add them to the list\n",
    " for room in all_rooms:\n",
    "    rooms.append((item, str('dataset/train' + '/' +item) + '/' + room))\n",
    "    \n",
    "# Build a dataframe        \n",
    "train_df = pd.DataFrame(data=rooms, columns=['tag', 'video_name'])\n",
    "print(train_df.head())\n",
    "print(train_df.tail())\n"
   ]
  },
  {
   "cell_type": "code",
   "execution_count": 3,
   "id": "27ac79ad",
   "metadata": {},
   "outputs": [],
   "source": [
    "df = train_df.loc[:,['video_name','tag']]\n",
    "df\n",
    "df.to_csv('train.csv')"
   ]
  },
  {
   "cell_type": "markdown",
   "id": "ee0897c2",
   "metadata": {},
   "source": [
    "# Preparing Test Data"
   ]
  },
  {
   "cell_type": "code",
   "execution_count": 4,
   "id": "413b31f2",
   "metadata": {},
   "outputs": [
    {
     "name": "stdout",
     "output_type": "stream",
     "text": [
      "['NonViolence', 'Violence']\n",
      "Types of activities found:  2\n",
      "           tag                            video_name\n",
      "0  NonViolence  dataset/test/NonViolence/NV_1000.mp4\n",
      "1  NonViolence   dataset/test/NonViolence/NV_986.mp4\n",
      "2  NonViolence   dataset/test/NonViolence/NV_987.mp4\n",
      "3  NonViolence   dataset/test/NonViolence/NV_988.mp4\n",
      "4  NonViolence   dataset/test/NonViolence/NV_989.mp4\n",
      "         tag                       video_name\n",
      "61  Violence  dataset/test/Violence/V_995.mp4\n",
      "62  Violence  dataset/test/Violence/V_996.mp4\n",
      "63  Violence  dataset/test/Violence/V_997.mp4\n",
      "64  Violence  dataset/test/Violence/V_998.mp4\n",
      "65  Violence  dataset/test/Violence/V_999.mp4\n"
     ]
    }
   ],
   "source": [
    "dataset_path = os.listdir('dataset/test')\n",
    "print(dataset_path)\n",
    "\n",
    "room_types = os.listdir('dataset/test')\n",
    "print(\"Types of activities found: \", len(dataset_path))\n",
    "\n",
    "rooms = []\n",
    "\n",
    "for item in dataset_path:\n",
    " # Get all the file names\n",
    " all_rooms = os.listdir('dataset/test' + '/' +item)\n",
    "\n",
    " # Add them to the list\n",
    " for room in all_rooms:\n",
    "    rooms.append((item, str('dataset/test' + '/' +item) + '/' + room))\n",
    "    \n",
    "# Build a dataframe        \n",
    "test_df = pd.DataFrame(data=rooms, columns=['tag', 'video_name'])\n",
    "print(test_df.head())\n",
    "print(test_df.tail())\n",
    "\n",
    "df = test_df.loc[:,['video_name','tag']]\n",
    "df\n",
    "df.to_csv('test.csv')"
   ]
  },
  {
   "cell_type": "code",
   "execution_count": 5,
   "id": "c45fb7c1",
   "metadata": {},
   "outputs": [
    {
     "name": "stdout",
     "output_type": "stream",
     "text": [
      "Collecting git+https://github.com/tensorflow/docs\n",
      "  Cloning https://github.com/tensorflow/docs to c:\\users\\rames\\appdata\\local\\temp\\pip-req-build-52bn9u4c\n",
      "  Resolved https://github.com/tensorflow/docs to commit 2e0e4a5f3521a22d0d9fa3dd832a42d1d71be283\n",
      "  Preparing metadata (setup.py): started\n",
      "  Preparing metadata (setup.py): finished with status 'done'\n",
      "Requirement already satisfied: astor in c:\\users\\rames\\anaconda3\\lib\\site-packages (from tensorflow-docs==0.0.0.dev0) (0.8.1)\n",
      "Requirement already satisfied: absl-py in c:\\users\\rames\\anaconda3\\lib\\site-packages (from tensorflow-docs==0.0.0.dev0) (1.4.0)\n",
      "Requirement already satisfied: jinja2 in c:\\users\\rames\\anaconda3\\lib\\site-packages (from tensorflow-docs==0.0.0.dev0) (2.11.3)\n",
      "Requirement already satisfied: nbformat in c:\\users\\rames\\anaconda3\\lib\\site-packages (from tensorflow-docs==0.0.0.dev0) (5.5.0)\n",
      "Requirement already satisfied: protobuf>=3.12 in c:\\users\\rames\\anaconda3\\lib\\site-packages (from tensorflow-docs==0.0.0.dev0) (3.19.6)\n",
      "Requirement already satisfied: pyyaml in c:\\users\\rames\\anaconda3\\lib\\site-packages (from tensorflow-docs==0.0.0.dev0) (6.0)\n",
      "Requirement already satisfied: MarkupSafe>=0.23 in c:\\users\\rames\\anaconda3\\lib\\site-packages (from jinja2->tensorflow-docs==0.0.0.dev0) (2.0.1)\n",
      "Requirement already satisfied: jupyter_core in c:\\users\\rames\\anaconda3\\lib\\site-packages (from nbformat->tensorflow-docs==0.0.0.dev0) (4.11.1)\n",
      "Requirement already satisfied: fastjsonschema in c:\\users\\rames\\anaconda3\\lib\\site-packages (from nbformat->tensorflow-docs==0.0.0.dev0) (2.16.2)\n",
      "Requirement already satisfied: traitlets>=5.1 in c:\\users\\rames\\anaconda3\\lib\\site-packages (from nbformat->tensorflow-docs==0.0.0.dev0) (5.1.1)\n",
      "Requirement already satisfied: jsonschema>=2.6 in c:\\users\\rames\\anaconda3\\lib\\site-packages (from nbformat->tensorflow-docs==0.0.0.dev0) (4.16.0)\n",
      "Requirement already satisfied: pyrsistent!=0.17.0,!=0.17.1,!=0.17.2,>=0.14.0 in c:\\users\\rames\\anaconda3\\lib\\site-packages (from jsonschema>=2.6->nbformat->tensorflow-docs==0.0.0.dev0) (0.18.0)\n",
      "Requirement already satisfied: attrs>=17.4.0 in c:\\users\\rames\\anaconda3\\lib\\site-packages (from jsonschema>=2.6->nbformat->tensorflow-docs==0.0.0.dev0) (21.4.0)\n",
      "Requirement already satisfied: pywin32>=1.0 in c:\\users\\rames\\anaconda3\\lib\\site-packages (from jupyter_core->nbformat->tensorflow-docs==0.0.0.dev0) (302)\n"
     ]
    },
    {
     "name": "stderr",
     "output_type": "stream",
     "text": [
      "  Running command git clone --filter=blob:none --quiet https://github.com/tensorflow/docs 'C:\\Users\\rames\\AppData\\Local\\Temp\\pip-req-build-52bn9u4c'\n"
     ]
    }
   ],
   "source": [
    "!pip install git+https://github.com/tensorflow/docs"
   ]
  },
  {
   "cell_type": "code",
   "execution_count": 6,
   "id": "58757afc",
   "metadata": {},
   "outputs": [
    {
     "name": "stdout",
     "output_type": "stream",
     "text": [
      "Requirement already satisfied: tensorflow in c:\\users\\rames\\anaconda3\\lib\\site-packages (2.11.0)Note: you may need to restart the kernel to use updated packages.\n",
      "\n",
      "Requirement already satisfied: tensorflow-intel==2.11.0 in c:\\users\\rames\\anaconda3\\lib\\site-packages (from tensorflow) (2.11.0)\n",
      "Requirement already satisfied: google-pasta>=0.1.1 in c:\\users\\rames\\anaconda3\\lib\\site-packages (from tensorflow-intel==2.11.0->tensorflow) (0.2.0)\n",
      "Requirement already satisfied: wrapt>=1.11.0 in c:\\users\\rames\\anaconda3\\lib\\site-packages (from tensorflow-intel==2.11.0->tensorflow) (1.14.1)\n",
      "Requirement already satisfied: termcolor>=1.1.0 in c:\\users\\rames\\anaconda3\\lib\\site-packages (from tensorflow-intel==2.11.0->tensorflow) (2.2.0)\n",
      "Requirement already satisfied: opt-einsum>=2.3.2 in c:\\users\\rames\\anaconda3\\lib\\site-packages (from tensorflow-intel==2.11.0->tensorflow) (3.3.0)\n",
      "Requirement already satisfied: flatbuffers>=2.0 in c:\\users\\rames\\anaconda3\\lib\\site-packages (from tensorflow-intel==2.11.0->tensorflow) (23.3.3)\n",
      "Requirement already satisfied: protobuf<3.20,>=3.9.2 in c:\\users\\rames\\anaconda3\\lib\\site-packages (from tensorflow-intel==2.11.0->tensorflow) (3.19.6)\n",
      "Requirement already satisfied: six>=1.12.0 in c:\\users\\rames\\anaconda3\\lib\\site-packages (from tensorflow-intel==2.11.0->tensorflow) (1.16.0)\n",
      "Requirement already satisfied: absl-py>=1.0.0 in c:\\users\\rames\\anaconda3\\lib\\site-packages (from tensorflow-intel==2.11.0->tensorflow) (1.4.0)\n",
      "Requirement already satisfied: libclang>=13.0.0 in c:\\users\\rames\\anaconda3\\lib\\site-packages (from tensorflow-intel==2.11.0->tensorflow) (15.0.6.1)\n",
      "Requirement already satisfied: h5py>=2.9.0 in c:\\users\\rames\\anaconda3\\lib\\site-packages (from tensorflow-intel==2.11.0->tensorflow) (3.7.0)\n",
      "Requirement already satisfied: grpcio<2.0,>=1.24.3 in c:\\users\\rames\\anaconda3\\lib\\site-packages (from tensorflow-intel==2.11.0->tensorflow) (1.51.3)\n",
      "Requirement already satisfied: numpy>=1.20 in c:\\users\\rames\\anaconda3\\lib\\site-packages (from tensorflow-intel==2.11.0->tensorflow) (1.21.5)\n",
      "Requirement already satisfied: typing-extensions>=3.6.6 in c:\\users\\rames\\anaconda3\\lib\\site-packages (from tensorflow-intel==2.11.0->tensorflow) (4.3.0)\n",
      "Requirement already satisfied: tensorflow-io-gcs-filesystem>=0.23.1 in c:\\users\\rames\\anaconda3\\lib\\site-packages (from tensorflow-intel==2.11.0->tensorflow) (0.31.0)\n",
      "Requirement already satisfied: setuptools in c:\\users\\rames\\anaconda3\\lib\\site-packages (from tensorflow-intel==2.11.0->tensorflow) (63.4.1)\n",
      "Requirement already satisfied: gast<=0.4.0,>=0.2.1 in c:\\users\\rames\\anaconda3\\lib\\site-packages (from tensorflow-intel==2.11.0->tensorflow) (0.4.0)\n",
      "Requirement already satisfied: keras<2.12,>=2.11.0 in c:\\users\\rames\\anaconda3\\lib\\site-packages (from tensorflow-intel==2.11.0->tensorflow) (2.11.0)\n",
      "Requirement already satisfied: astunparse>=1.6.0 in c:\\users\\rames\\anaconda3\\lib\\site-packages (from tensorflow-intel==2.11.0->tensorflow) (1.6.3)\n",
      "Requirement already satisfied: packaging in c:\\users\\rames\\anaconda3\\lib\\site-packages (from tensorflow-intel==2.11.0->tensorflow) (21.3)\n",
      "Requirement already satisfied: tensorflow-estimator<2.12,>=2.11.0 in c:\\users\\rames\\anaconda3\\lib\\site-packages (from tensorflow-intel==2.11.0->tensorflow) (2.11.0)\n",
      "Requirement already satisfied: tensorboard<2.12,>=2.11 in c:\\users\\rames\\anaconda3\\lib\\site-packages (from tensorflow-intel==2.11.0->tensorflow) (2.11.2)\n",
      "Requirement already satisfied: wheel<1.0,>=0.23.0 in c:\\users\\rames\\anaconda3\\lib\\site-packages (from astunparse>=1.6.0->tensorflow-intel==2.11.0->tensorflow) (0.37.1)\n",
      "Requirement already satisfied: markdown>=2.6.8 in c:\\users\\rames\\anaconda3\\lib\\site-packages (from tensorboard<2.12,>=2.11->tensorflow-intel==2.11.0->tensorflow) (3.3.4)\n",
      "Requirement already satisfied: tensorboard-data-server<0.7.0,>=0.6.0 in c:\\users\\rames\\anaconda3\\lib\\site-packages (from tensorboard<2.12,>=2.11->tensorflow-intel==2.11.0->tensorflow) (0.6.1)\n",
      "Requirement already satisfied: google-auth-oauthlib<0.5,>=0.4.1 in c:\\users\\rames\\anaconda3\\lib\\site-packages (from tensorboard<2.12,>=2.11->tensorflow-intel==2.11.0->tensorflow) (0.4.6)\n",
      "Requirement already satisfied: requests<3,>=2.21.0 in c:\\users\\rames\\anaconda3\\lib\\site-packages (from tensorboard<2.12,>=2.11->tensorflow-intel==2.11.0->tensorflow) (2.28.1)\n",
      "Requirement already satisfied: werkzeug>=1.0.1 in c:\\users\\rames\\anaconda3\\lib\\site-packages (from tensorboard<2.12,>=2.11->tensorflow-intel==2.11.0->tensorflow) (2.0.3)\n",
      "Requirement already satisfied: google-auth<3,>=1.6.3 in c:\\users\\rames\\anaconda3\\lib\\site-packages (from tensorboard<2.12,>=2.11->tensorflow-intel==2.11.0->tensorflow) (2.16.2)\n",
      "Requirement already satisfied: tensorboard-plugin-wit>=1.6.0 in c:\\users\\rames\\anaconda3\\lib\\site-packages (from tensorboard<2.12,>=2.11->tensorflow-intel==2.11.0->tensorflow) (1.8.1)\n",
      "Requirement already satisfied: pyparsing!=3.0.5,>=2.0.2 in c:\\users\\rames\\anaconda3\\lib\\site-packages (from packaging->tensorflow-intel==2.11.0->tensorflow) (3.0.9)\n",
      "Requirement already satisfied: cachetools<6.0,>=2.0.0 in c:\\users\\rames\\anaconda3\\lib\\site-packages (from google-auth<3,>=1.6.3->tensorboard<2.12,>=2.11->tensorflow-intel==2.11.0->tensorflow) (5.3.0)\n",
      "Requirement already satisfied: rsa<5,>=3.1.4 in c:\\users\\rames\\anaconda3\\lib\\site-packages (from google-auth<3,>=1.6.3->tensorboard<2.12,>=2.11->tensorflow-intel==2.11.0->tensorflow) (4.9)\n",
      "Requirement already satisfied: pyasn1-modules>=0.2.1 in c:\\users\\rames\\anaconda3\\lib\\site-packages (from google-auth<3,>=1.6.3->tensorboard<2.12,>=2.11->tensorflow-intel==2.11.0->tensorflow) (0.2.8)\n",
      "Requirement already satisfied: requests-oauthlib>=0.7.0 in c:\\users\\rames\\anaconda3\\lib\\site-packages (from google-auth-oauthlib<0.5,>=0.4.1->tensorboard<2.12,>=2.11->tensorflow-intel==2.11.0->tensorflow) (1.3.1)\n",
      "Requirement already satisfied: certifi>=2017.4.17 in c:\\users\\rames\\anaconda3\\lib\\site-packages (from requests<3,>=2.21.0->tensorboard<2.12,>=2.11->tensorflow-intel==2.11.0->tensorflow) (2022.9.14)\n",
      "Requirement already satisfied: idna<4,>=2.5 in c:\\users\\rames\\anaconda3\\lib\\site-packages (from requests<3,>=2.21.0->tensorboard<2.12,>=2.11->tensorflow-intel==2.11.0->tensorflow) (3.3)\n",
      "Requirement already satisfied: charset-normalizer<3,>=2 in c:\\users\\rames\\anaconda3\\lib\\site-packages (from requests<3,>=2.21.0->tensorboard<2.12,>=2.11->tensorflow-intel==2.11.0->tensorflow) (2.0.4)\n",
      "Requirement already satisfied: urllib3<1.27,>=1.21.1 in c:\\users\\rames\\anaconda3\\lib\\site-packages (from requests<3,>=2.21.0->tensorboard<2.12,>=2.11->tensorflow-intel==2.11.0->tensorflow) (1.26.11)\n",
      "Requirement already satisfied: pyasn1<0.5.0,>=0.4.6 in c:\\users\\rames\\anaconda3\\lib\\site-packages (from pyasn1-modules>=0.2.1->google-auth<3,>=1.6.3->tensorboard<2.12,>=2.11->tensorflow-intel==2.11.0->tensorflow) (0.4.8)\n",
      "Requirement already satisfied: oauthlib>=3.0.0 in c:\\users\\rames\\anaconda3\\lib\\site-packages (from requests-oauthlib>=0.7.0->google-auth-oauthlib<0.5,>=0.4.1->tensorboard<2.12,>=2.11->tensorflow-intel==2.11.0->tensorflow) (3.2.2)\n"
     ]
    }
   ],
   "source": [
    "pip install tensorflow"
   ]
  },
  {
   "cell_type": "code",
   "execution_count": 7,
   "id": "2402e149",
   "metadata": {},
   "outputs": [
    {
     "name": "stdout",
     "output_type": "stream",
     "text": [
      "Requirement already satisfied: imutils in c:\\users\\rames\\anaconda3\\lib\\site-packages (0.5.4)\n",
      "Note: you may need to restart the kernel to use updated packages.\n"
     ]
    }
   ],
   "source": [
    "pip install imutils"
   ]
  },
  {
   "cell_type": "code",
   "execution_count": 8,
   "id": "918d9338",
   "metadata": {},
   "outputs": [],
   "source": [
    "from tensorflow_docs.vis import embed\n",
    "from tensorflow import keras\n",
    "from imutils import paths\n",
    "\n",
    "import matplotlib.pyplot as plt\n",
    "import tensorflow as tf\n",
    "import pandas as pd\n",
    "import numpy as np\n",
    "import imageio\n",
    "import cv2\n",
    "import os"
   ]
  },
  {
   "cell_type": "code",
   "execution_count": 9,
   "id": "f4fed40c",
   "metadata": {},
   "outputs": [],
   "source": [
    "gpus = tf.config.experimental.list_physical_devices('GPU')\n",
    "if gpus:\n",
    "  try:\n",
    "    tf.config.experimental.set_virtual_device_configuration(\n",
    "        gpus[0],[tf.config.experimental.VirtualDeviceConfiguration(memory_limit=5120)])\n",
    "  except RuntimeError as e:\n",
    "    print(e)"
   ]
  },
  {
   "cell_type": "markdown",
   "id": "2bdf44bb",
   "metadata": {},
   "source": [
    "# Data preparation"
   ]
  },
  {
   "cell_type": "code",
   "execution_count": 10,
   "id": "8b716cfb",
   "metadata": {},
   "outputs": [
    {
     "name": "stdout",
     "output_type": "stream",
     "text": [
      "Total videos for training: 2000\n",
      "Total videos for testing: 66\n"
     ]
    },
    {
     "data": {
      "text/html": [
       "<div>\n",
       "<style scoped>\n",
       "    .dataframe tbody tr th:only-of-type {\n",
       "        vertical-align: middle;\n",
       "    }\n",
       "\n",
       "    .dataframe tbody tr th {\n",
       "        vertical-align: top;\n",
       "    }\n",
       "\n",
       "    .dataframe thead th {\n",
       "        text-align: right;\n",
       "    }\n",
       "</style>\n",
       "<table border=\"1\" class=\"dataframe\">\n",
       "  <thead>\n",
       "    <tr style=\"text-align: right;\">\n",
       "      <th></th>\n",
       "      <th>Unnamed: 0</th>\n",
       "      <th>video_name</th>\n",
       "      <th>tag</th>\n",
       "    </tr>\n",
       "  </thead>\n",
       "  <tbody>\n",
       "    <tr>\n",
       "      <th>424</th>\n",
       "      <td>424</td>\n",
       "      <td>dataset/train/NonViolence/NV_480.mp4</td>\n",
       "      <td>NonViolence</td>\n",
       "    </tr>\n",
       "    <tr>\n",
       "      <th>1808</th>\n",
       "      <td>1808</td>\n",
       "      <td>dataset/train/Violence/V_826.mp4</td>\n",
       "      <td>Violence</td>\n",
       "    </tr>\n",
       "    <tr>\n",
       "      <th>1018</th>\n",
       "      <td>1018</td>\n",
       "      <td>dataset/train/Violence/V_114.mp4</td>\n",
       "      <td>Violence</td>\n",
       "    </tr>\n",
       "    <tr>\n",
       "      <th>935</th>\n",
       "      <td>935</td>\n",
       "      <td>dataset/train/NonViolence/NV_940.mp4</td>\n",
       "      <td>NonViolence</td>\n",
       "    </tr>\n",
       "    <tr>\n",
       "      <th>1985</th>\n",
       "      <td>1985</td>\n",
       "      <td>dataset/train/Violence/V_986.mp4</td>\n",
       "      <td>Violence</td>\n",
       "    </tr>\n",
       "    <tr>\n",
       "      <th>825</th>\n",
       "      <td>825</td>\n",
       "      <td>dataset/train/NonViolence/NV_841.mp4</td>\n",
       "      <td>NonViolence</td>\n",
       "    </tr>\n",
       "    <tr>\n",
       "      <th>89</th>\n",
       "      <td>89</td>\n",
       "      <td>dataset/train/NonViolence/NV_179.mp4</td>\n",
       "      <td>NonViolence</td>\n",
       "    </tr>\n",
       "    <tr>\n",
       "      <th>525</th>\n",
       "      <td>525</td>\n",
       "      <td>dataset/train/NonViolence/NV_571.mp4</td>\n",
       "      <td>NonViolence</td>\n",
       "    </tr>\n",
       "    <tr>\n",
       "      <th>1061</th>\n",
       "      <td>1061</td>\n",
       "      <td>dataset/train/Violence/V_153.mp4</td>\n",
       "      <td>Violence</td>\n",
       "    </tr>\n",
       "    <tr>\n",
       "      <th>1462</th>\n",
       "      <td>1462</td>\n",
       "      <td>dataset/train/Violence/V_514.mp4</td>\n",
       "      <td>Violence</td>\n",
       "    </tr>\n",
       "  </tbody>\n",
       "</table>\n",
       "</div>"
      ],
      "text/plain": [
       "      Unnamed: 0                            video_name          tag\n",
       "424          424  dataset/train/NonViolence/NV_480.mp4  NonViolence\n",
       "1808        1808      dataset/train/Violence/V_826.mp4     Violence\n",
       "1018        1018      dataset/train/Violence/V_114.mp4     Violence\n",
       "935          935  dataset/train/NonViolence/NV_940.mp4  NonViolence\n",
       "1985        1985      dataset/train/Violence/V_986.mp4     Violence\n",
       "825          825  dataset/train/NonViolence/NV_841.mp4  NonViolence\n",
       "89            89  dataset/train/NonViolence/NV_179.mp4  NonViolence\n",
       "525          525  dataset/train/NonViolence/NV_571.mp4  NonViolence\n",
       "1061        1061      dataset/train/Violence/V_153.mp4     Violence\n",
       "1462        1462      dataset/train/Violence/V_514.mp4     Violence"
      ]
     },
     "execution_count": 10,
     "metadata": {},
     "output_type": "execute_result"
    }
   ],
   "source": [
    "train_df = pd.read_csv(\"train.csv\")\n",
    "test_df = pd.read_csv(\"test.csv\")\n",
    "\n",
    "print(f\"Total videos for training: {len(train_df)}\")\n",
    "print(f\"Total videos for testing: {len(test_df)}\")\n",
    "\n",
    "\n",
    "train_df.sample(10)"
   ]
  },
  {
   "cell_type": "markdown",
   "id": "b93c182a",
   "metadata": {},
   "source": [
    "# Feed the videos to a network:\n"
   ]
  },
  {
   "cell_type": "code",
   "execution_count": 11,
   "id": "fcd68b72",
   "metadata": {},
   "outputs": [],
   "source": [
    "# The following two methods are taken from this tutorial:\n",
    "# https://www.tensorflow.org/hub/tutorials/action_recognition_with_tf_hub\n",
    "IMG_SIZE = 224\n",
    "\n",
    "\n",
    "def crop_center_square(frame):\n",
    "    y, x = frame.shape[0:2]\n",
    "    min_dim = min(y, x)\n",
    "    start_x = (x // 2) - (min_dim // 2)\n",
    "    start_y = (y // 2) - (min_dim // 2)\n",
    "    return frame[start_y : start_y + min_dim, start_x : start_x + min_dim]\n",
    "\n",
    "\n",
    "def load_video(path, max_frames=0, resize=(IMG_SIZE, IMG_SIZE)):\n",
    "    cap = cv2.VideoCapture(path)\n",
    "    frames = []\n",
    "    try:\n",
    "        while True:\n",
    "            ret, frame = cap.read()\n",
    "            if not ret:\n",
    "                break\n",
    "            frame = crop_center_square(frame)\n",
    "            frame = cv2.resize(frame, resize)\n",
    "            frame = frame[:, :, [2, 1, 0]]\n",
    "            frames.append(frame)\n",
    "\n",
    "            if len(frames) == max_frames:\n",
    "                break\n",
    "    finally:\n",
    "        cap.release()\n",
    "    return np.array(frames)"
   ]
  },
  {
   "cell_type": "markdown",
   "id": "c243c6ee",
   "metadata": {},
   "source": [
    "   ### Feature Extraction"
   ]
  },
  {
   "cell_type": "code",
   "execution_count": 12,
   "id": "388c0afe",
   "metadata": {},
   "outputs": [],
   "source": [
    "def build_feature_extractor():\n",
    "    feature_extractor = keras.applications.InceptionV3(\n",
    "        weights=\"imagenet\",\n",
    "        include_top=False,\n",
    "        pooling=\"avg\",\n",
    "        input_shape=(IMG_SIZE, IMG_SIZE, 3),\n",
    "    )\n",
    "    preprocess_input = keras.applications.inception_v3.preprocess_input\n",
    "\n",
    "    inputs = keras.Input((IMG_SIZE, IMG_SIZE, 3))\n",
    "    preprocessed = preprocess_input(inputs)\n",
    "\n",
    "    outputs = feature_extractor(preprocessed)\n",
    "    return keras.Model(inputs, outputs, name=\"feature_extractor\")\n",
    "\n",
    "\n",
    "feature_extractor = build_feature_extractor()"
   ]
  },
  {
   "cell_type": "markdown",
   "id": "877ca626",
   "metadata": {},
   "source": [
    "### Label Encoding\n",
    "StringLookup layer encode the class labels as integers."
   ]
  },
  {
   "cell_type": "code",
   "execution_count": 13,
   "id": "801339d8",
   "metadata": {},
   "outputs": [
    {
     "name": "stdout",
     "output_type": "stream",
     "text": [
      "['NonViolence', 'Violence']\n"
     ]
    },
    {
     "data": {
      "text/plain": [
       "array([[0],\n",
       "       [0],\n",
       "       [0],\n",
       "       ...,\n",
       "       [1],\n",
       "       [1],\n",
       "       [1]], dtype=int64)"
      ]
     },
     "execution_count": 13,
     "metadata": {},
     "output_type": "execute_result"
    }
   ],
   "source": [
    "label_processor = keras.layers.StringLookup(num_oov_indices=0, vocabulary=np.unique(train_df[\"tag\"]))\n",
    "print(label_processor.get_vocabulary())\n",
    "\n",
    "labels = train_df[\"tag\"].values\n",
    "labels = label_processor(labels[..., None]).numpy()\n",
    "labels"
   ]
  },
  {
   "cell_type": "markdown",
   "id": "fde4ac85",
   "metadata": {},
   "source": [
    "Finally, we can put all the pieces together to create our data processing utility."
   ]
  },
  {
   "cell_type": "code",
   "execution_count": 14,
   "id": "18db18a3",
   "metadata": {},
   "outputs": [],
   "source": [
    "#print(train_data[0].shape)\n",
    "#train_data[0]"
   ]
  },
  {
   "cell_type": "code",
   "execution_count": 15,
   "id": "76216366",
   "metadata": {},
   "outputs": [],
   "source": [
    "#Define hyperparameters\n",
    "\n",
    "IMG_SIZE = 224\n",
    "BATCH_SIZE = 64\n",
    "EPOCHS = 100\n",
    "\n",
    "MAX_SEQ_LENGTH = 20\n",
    "NUM_FEATURES = 2048"
   ]
  },
  {
   "cell_type": "code",
   "execution_count": 16,
   "id": "11befa62",
   "metadata": {},
   "outputs": [
    {
     "name": "stdout",
     "output_type": "stream",
     "text": [
      "Frame features in train set: (2000, 20, 2048)\n",
      "Frame masks in train set: (2000, 20)\n",
      "train_labels in train set: (2000, 1)\n",
      "test_labels in train set: (66, 1)\n"
     ]
    }
   ],
   "source": [
    "def prepare_all_videos(df, root_dir):\n",
    "    num_samples = len(df)\n",
    "    video_paths = df[\"video_name\"].values.tolist()\n",
    "    \n",
    "    ##take all classlabels from train_df column named 'tag' and store in labels\n",
    "    labels = df[\"tag\"].values\n",
    "    \n",
    "    #convert classlabels to label encoding\n",
    "    labels = label_processor(labels[..., None]).numpy()\n",
    "\n",
    "    # `frame_masks` and `frame_features` are what we will feed to our sequence model.\n",
    "    # `frame_masks` will contain a bunch of booleans denoting if a timestep is\n",
    "    # masked with padding or not.\n",
    "    frame_masks = np.zeros(shape=(num_samples, MAX_SEQ_LENGTH), dtype=\"bool\") # 145,20\n",
    "    frame_features = np.zeros(shape=(num_samples, MAX_SEQ_LENGTH, NUM_FEATURES), dtype=\"float32\") #145,20,2048\n",
    "\n",
    "    # For each video.\n",
    "    for idx, path in enumerate(video_paths):\n",
    "        # Gather all its frames and add a batch dimension.\n",
    "        frames = load_video(os.path.join(root_dir, path))\n",
    "        frames = frames[None, ...]\n",
    "\n",
    "        # Initialize placeholders to store the masks and features of the current video.\n",
    "        temp_frame_mask = np.zeros(shape=(1, MAX_SEQ_LENGTH,), dtype=\"bool\")\n",
    "        temp_frame_features = np.zeros(\n",
    "            shape=(1, MAX_SEQ_LENGTH, NUM_FEATURES), dtype=\"float32\"\n",
    "        )\n",
    "\n",
    "        # Extract features from the frames of the current video.\n",
    "        for i, batch in enumerate(frames):\n",
    "            video_length = batch.shape[0]\n",
    "            length = min(MAX_SEQ_LENGTH, video_length)\n",
    "            for j in range(length):\n",
    "                temp_frame_features[i, j, :] = feature_extractor.predict(\n",
    "                    batch[None, j, :]\n",
    "                )\n",
    "            temp_frame_mask[i, :length] = 1  # 1 = not masked, 0 = masked\n",
    "\n",
    "        frame_features[idx,] = temp_frame_features.squeeze()\n",
    "        frame_masks[idx,] = temp_frame_mask.squeeze()\n",
    "\n",
    "    return (frame_features, frame_masks), labels\n",
    "\n",
    "\n",
    "train_data, train_labels = prepare_all_videos(train_df, \"train\")\n",
    "test_data, test_labels = prepare_all_videos(test_df, \"test\")\n",
    "\n",
    "print(f\"Frame features in train set: {train_data[0].shape}\")\n",
    "print(f\"Frame masks in train set: {train_data[1].shape}\")\n",
    "\n",
    "\n",
    "\n",
    "print(f\"train_labels in train set: {train_labels.shape}\")\n",
    "\n",
    "print(f\"test_labels in train set: {test_labels.shape}\")\n",
    "\n",
    "# MAX_SEQ_LENGTH = 20, NUM_FEATURES = 2048. We have defined this above under hyper parameters"
   ]
  },
  {
   "cell_type": "markdown",
   "id": "407e0827",
   "metadata": {},
   "source": [
    "# The sequence model\n",
    "Now, we can feed this data to a sequence model consisting of recurrent layers like GRU."
   ]
  },
  {
   "cell_type": "code",
   "execution_count": 17,
   "id": "7382f3c1",
   "metadata": {},
   "outputs": [
    {
     "name": "stdout",
     "output_type": "stream",
     "text": [
      "Epoch 1/30\n",
      "44/44 [==============================] - ETA: 0s - loss: 0.6846 - accuracy: 0.7143\n",
      "Epoch 1: val_loss improved from inf to 0.73566, saving model to ./tmp\\video_classifier\n",
      "44/44 [==============================] - 12s 88ms/step - loss: 0.6846 - accuracy: 0.7143 - val_loss: 0.7357 - val_accuracy: 0.0000e+00\n",
      "Epoch 2/30\n",
      "43/44 [============================>.] - ETA: 0s - loss: 0.6693 - accuracy: 0.7137\n",
      "Epoch 2: val_loss did not improve from 0.73566\n",
      "44/44 [==============================] - 1s 28ms/step - loss: 0.6691 - accuracy: 0.7143 - val_loss: 0.7767 - val_accuracy: 0.0000e+00\n",
      "Epoch 3/30\n",
      "43/44 [============================>.] - ETA: 0s - loss: 0.6550 - accuracy: 0.7188\n",
      "Epoch 3: val_loss did not improve from 0.73566\n",
      "44/44 [==============================] - 1s 28ms/step - loss: 0.6560 - accuracy: 0.7143 - val_loss: 0.8166 - val_accuracy: 0.0000e+00\n",
      "Epoch 4/30\n",
      "42/44 [===========================>..] - ETA: 0s - loss: 0.6453 - accuracy: 0.7135\n",
      "Epoch 4: val_loss did not improve from 0.73566\n",
      "44/44 [==============================] - 1s 29ms/step - loss: 0.6449 - accuracy: 0.7143 - val_loss: 0.8538 - val_accuracy: 0.0000e+00\n",
      "Epoch 5/30\n",
      "44/44 [==============================] - ETA: 0s - loss: 0.6359 - accuracy: 0.7143\n",
      "Epoch 5: val_loss did not improve from 0.73566\n",
      "44/44 [==============================] - 1s 28ms/step - loss: 0.6359 - accuracy: 0.7143 - val_loss: 0.8934 - val_accuracy: 0.0000e+00\n",
      "Epoch 6/30\n",
      "43/44 [============================>.] - ETA: 0s - loss: 0.6290 - accuracy: 0.7122\n",
      "Epoch 6: val_loss did not improve from 0.73566\n",
      "44/44 [==============================] - 1s 28ms/step - loss: 0.6281 - accuracy: 0.7143 - val_loss: 0.9260 - val_accuracy: 0.0000e+00\n",
      "Epoch 7/30\n",
      "42/44 [===========================>..] - ETA: 0s - loss: 0.6236 - accuracy: 0.7113\n",
      "Epoch 7: val_loss did not improve from 0.73566\n",
      "44/44 [==============================] - 1s 28ms/step - loss: 0.6220 - accuracy: 0.7143 - val_loss: 0.9595 - val_accuracy: 0.0000e+00\n",
      "Epoch 8/30\n",
      "43/44 [============================>.] - ETA: 0s - loss: 0.6165 - accuracy: 0.7151\n",
      "Epoch 8: val_loss did not improve from 0.73566\n",
      "44/44 [==============================] - 1s 29ms/step - loss: 0.6169 - accuracy: 0.7143 - val_loss: 0.9893 - val_accuracy: 0.0000e+00\n",
      "Epoch 9/30\n",
      "44/44 [==============================] - ETA: 0s - loss: 0.6129 - accuracy: 0.7143\n",
      "Epoch 9: val_loss did not improve from 0.73566\n",
      "44/44 [==============================] - 1s 28ms/step - loss: 0.6129 - accuracy: 0.7143 - val_loss: 1.0189 - val_accuracy: 0.0000e+00\n",
      "Epoch 10/30\n",
      "42/44 [===========================>..] - ETA: 0s - loss: 0.6114 - accuracy: 0.7113\n",
      "Epoch 10: val_loss did not improve from 0.73566\n",
      "44/44 [==============================] - 1s 28ms/step - loss: 0.6096 - accuracy: 0.7143 - val_loss: 1.0448 - val_accuracy: 0.0000e+00\n",
      "Epoch 11/30\n",
      "44/44 [==============================] - ETA: 0s - loss: 0.6070 - accuracy: 0.7143\n",
      "Epoch 11: val_loss did not improve from 0.73566\n",
      "44/44 [==============================] - 1s 28ms/step - loss: 0.6070 - accuracy: 0.7143 - val_loss: 1.0697 - val_accuracy: 0.0000e+00\n",
      "Epoch 12/30\n",
      "44/44 [==============================] - ETA: 0s - loss: 0.6050 - accuracy: 0.7143\n",
      "Epoch 12: val_loss did not improve from 0.73566\n",
      "44/44 [==============================] - 1s 29ms/step - loss: 0.6050 - accuracy: 0.7143 - val_loss: 1.0903 - val_accuracy: 0.0000e+00\n",
      "Epoch 13/30\n",
      "43/44 [============================>.] - ETA: 0s - loss: 0.6034 - accuracy: 0.7144\n",
      "Epoch 13: val_loss did not improve from 0.73566\n",
      "44/44 [==============================] - 1s 29ms/step - loss: 0.6034 - accuracy: 0.7143 - val_loss: 1.1103 - val_accuracy: 0.0000e+00\n",
      "Epoch 14/30\n",
      "43/44 [============================>.] - ETA: 0s - loss: 0.6043 - accuracy: 0.7115\n",
      "Epoch 14: val_loss did not improve from 0.73566\n",
      "44/44 [==============================] - 1s 28ms/step - loss: 0.6022 - accuracy: 0.7143 - val_loss: 1.1293 - val_accuracy: 0.0000e+00\n",
      "Epoch 15/30\n",
      "43/44 [============================>.] - ETA: 0s - loss: 0.6000 - accuracy: 0.7158\n",
      "Epoch 15: val_loss did not improve from 0.73566\n",
      "44/44 [==============================] - 1s 28ms/step - loss: 0.6012 - accuracy: 0.7143 - val_loss: 1.1445 - val_accuracy: 0.0000e+00\n",
      "Epoch 16/30\n",
      "43/44 [============================>.] - ETA: 0s - loss: 0.6021 - accuracy: 0.7122\n",
      "Epoch 16: val_loss did not improve from 0.73566\n",
      "44/44 [==============================] - 1s 28ms/step - loss: 0.6005 - accuracy: 0.7143 - val_loss: 1.1572 - val_accuracy: 0.0000e+00\n",
      "Epoch 17/30\n",
      "42/44 [===========================>..] - ETA: 0s - loss: 0.6023 - accuracy: 0.7113\n",
      "Epoch 17: val_loss did not improve from 0.73566\n",
      "44/44 [==============================] - 1s 28ms/step - loss: 0.5999 - accuracy: 0.7143 - val_loss: 1.1714 - val_accuracy: 0.0000e+00\n",
      "Epoch 18/30\n",
      "43/44 [============================>.] - ETA: 0s - loss: 0.5988 - accuracy: 0.7151\n",
      "Epoch 18: val_loss did not improve from 0.73566\n",
      "44/44 [==============================] - 1s 28ms/step - loss: 0.5995 - accuracy: 0.7143 - val_loss: 1.1827 - val_accuracy: 0.0000e+00\n",
      "Epoch 19/30\n",
      "44/44 [==============================] - ETA: 0s - loss: 0.5992 - accuracy: 0.7143\n",
      "Epoch 19: val_loss did not improve from 0.73566\n",
      "44/44 [==============================] - 1s 28ms/step - loss: 0.5992 - accuracy: 0.7143 - val_loss: 1.1910 - val_accuracy: 0.0000e+00\n",
      "Epoch 20/30\n",
      "42/44 [===========================>..] - ETA: 0s - loss: 0.6015 - accuracy: 0.7113\n",
      "Epoch 20: val_loss did not improve from 0.73566\n",
      "44/44 [==============================] - 1s 30ms/step - loss: 0.5989 - accuracy: 0.7143 - val_loss: 1.2013 - val_accuracy: 0.0000e+00\n",
      "Epoch 21/30\n",
      "42/44 [===========================>..] - ETA: 0s - loss: 0.6000 - accuracy: 0.7128\n",
      "Epoch 21: val_loss did not improve from 0.73566\n",
      "44/44 [==============================] - 1s 29ms/step - loss: 0.5988 - accuracy: 0.7143 - val_loss: 1.2105 - val_accuracy: 0.0000e+00\n",
      "Epoch 22/30\n",
      "44/44 [==============================] - ETA: 0s - loss: 0.5986 - accuracy: 0.7143\n",
      "Epoch 22: val_loss did not improve from 0.73566\n",
      "44/44 [==============================] - 1s 28ms/step - loss: 0.5986 - accuracy: 0.7143 - val_loss: 1.2148 - val_accuracy: 0.0000e+00\n",
      "Epoch 23/30\n",
      "42/44 [===========================>..] - ETA: 0s - loss: 0.5985 - accuracy: 0.7143\n",
      "Epoch 23: val_loss did not improve from 0.73566\n",
      "44/44 [==============================] - 1s 28ms/step - loss: 0.5985 - accuracy: 0.7143 - val_loss: 1.2206 - val_accuracy: 0.0000e+00\n",
      "Epoch 24/30\n",
      "44/44 [==============================] - ETA: 0s - loss: 0.5985 - accuracy: 0.7143\n",
      "Epoch 24: val_loss did not improve from 0.73566\n",
      "44/44 [==============================] - 1s 28ms/step - loss: 0.5985 - accuracy: 0.7143 - val_loss: 1.2242 - val_accuracy: 0.0000e+00\n",
      "Epoch 25/30\n",
      "42/44 [===========================>..] - ETA: 0s - loss: 0.6011 - accuracy: 0.7113\n",
      "Epoch 25: val_loss did not improve from 0.73566\n",
      "44/44 [==============================] - 1s 30ms/step - loss: 0.5984 - accuracy: 0.7143 - val_loss: 1.2299 - val_accuracy: 0.0000e+00\n",
      "Epoch 26/30\n",
      "42/44 [===========================>..] - ETA: 0s - loss: 0.6004 - accuracy: 0.7121\n",
      "Epoch 26: val_loss did not improve from 0.73566\n",
      "44/44 [==============================] - 1s 31ms/step - loss: 0.5984 - accuracy: 0.7143 - val_loss: 1.2313 - val_accuracy: 0.0000e+00\n",
      "Epoch 27/30\n",
      "43/44 [============================>.] - ETA: 0s - loss: 0.5989 - accuracy: 0.7137\n",
      "Epoch 27: val_loss did not improve from 0.73566\n",
      "44/44 [==============================] - 1s 31ms/step - loss: 0.5983 - accuracy: 0.7143 - val_loss: 1.2380 - val_accuracy: 0.0000e+00\n",
      "Epoch 28/30\n",
      "42/44 [===========================>..] - ETA: 0s - loss: 0.5977 - accuracy: 0.7150\n",
      "Epoch 28: val_loss did not improve from 0.73566\n",
      "44/44 [==============================] - 1s 30ms/step - loss: 0.5984 - accuracy: 0.7143 - val_loss: 1.2449 - val_accuracy: 0.0000e+00\n",
      "Epoch 29/30\n",
      "42/44 [===========================>..] - ETA: 0s - loss: 0.5983 - accuracy: 0.7143\n",
      "Epoch 29: val_loss did not improve from 0.73566\n",
      "44/44 [==============================] - 1s 29ms/step - loss: 0.5983 - accuracy: 0.7143 - val_loss: 1.2435 - val_accuracy: 0.0000e+00\n",
      "Epoch 30/30\n",
      "43/44 [============================>.] - ETA: 0s - loss: 0.5989 - accuracy: 0.7137\n",
      "Epoch 30: val_loss did not improve from 0.73566\n"
     ]
    },
    {
     "name": "stdout",
     "output_type": "stream",
     "text": [
      "44/44 [==============================] - 1s 29ms/step - loss: 0.5983 - accuracy: 0.7143 - val_loss: 1.2453 - val_accuracy: 0.0000e+00\n",
      "3/3 [==============================] - 0s 8ms/step - loss: 0.7167 - accuracy: 0.2273\n",
      "Test accuracy: 22.73%\n"
     ]
    }
   ],
   "source": [
    "# Utility for our sequence model.\n",
    "def get_sequence_model():\n",
    "    class_vocab = label_processor.get_vocabulary()\n",
    "\n",
    "    frame_features_input = keras.Input((MAX_SEQ_LENGTH, NUM_FEATURES))\n",
    "    mask_input = keras.Input((MAX_SEQ_LENGTH,), dtype=\"bool\")\n",
    "\n",
    "    # Refer to the following tutorial to understand the significance of using `mask`:\n",
    "    # https://keras.io/api/layers/recurrent_layers/gru/\n",
    "    x = keras.layers.GRU(16, return_sequences=True)(frame_features_input, mask=mask_input)\n",
    "    x = keras.layers.GRU(8)(x)\n",
    "    x = keras.layers.Dropout(0.4)(x)\n",
    "    x = keras.layers.Dense(8, activation=\"relu\")(x)\n",
    "    output = keras.layers.Dense(len(class_vocab), activation=\"softmax\")(x)\n",
    "\n",
    "    rnn_model = keras.Model([frame_features_input, mask_input], output)\n",
    "\n",
    "    rnn_model.compile(\n",
    "        loss=\"sparse_categorical_crossentropy\", optimizer=\"adam\", metrics=[\"accuracy\"]\n",
    "    )\n",
    "    return rnn_model\n",
    "\n",
    "EPOCHS = 30\n",
    "# Utility for running experiments.\n",
    "def run_experiment():\n",
    "    filepath = \"./tmp/video_classifier\"\n",
    "    checkpoint = keras.callbacks.ModelCheckpoint(\n",
    "        filepath, save_weights_only=True, save_best_only=True, verbose=1\n",
    "    )\n",
    "\n",
    "    seq_model = get_sequence_model()\n",
    "    history = seq_model.fit(\n",
    "        [train_data[0], train_data[1]],\n",
    "        train_labels,\n",
    "        validation_split=0.3,\n",
    "        epochs=EPOCHS,\n",
    "        callbacks=[checkpoint],\n",
    "    )\n",
    "\n",
    "    seq_model.load_weights(filepath)\n",
    "    _, accuracy = seq_model.evaluate([test_data[0], test_data[1]], test_labels)\n",
    "    print(f\"Test accuracy: {round(accuracy * 100, 2)}%\")\n",
    "\n",
    "    return history, seq_model\n",
    "\n",
    "\n",
    "_, sequence_model = run_experiment()"
   ]
  },
  {
   "cell_type": "markdown",
   "id": "6f1f1681",
   "metadata": {},
   "source": [
    "# Inference"
   ]
  },
  {
   "cell_type": "code",
   "execution_count": 18,
   "id": "846a5956",
   "metadata": {},
   "outputs": [
    {
     "name": "stdout",
     "output_type": "stream",
     "text": [
      "Test video path: dataset/test/Violence/V_985.mp4\n",
      "1/1 [==============================] - 3s 3s/step\n",
      "  NonViolence: 52.08%\n",
      "  Violence: 47.92%\n"
     ]
    }
   ],
   "source": [
    "def prepare_single_video(frames):\n",
    "    frames = frames[None, ...]\n",
    "    frame_mask = np.zeros(shape=(1, MAX_SEQ_LENGTH,), dtype=\"bool\")\n",
    "    frame_features = np.zeros(shape=(1, MAX_SEQ_LENGTH, NUM_FEATURES), dtype=\"float32\")\n",
    "\n",
    "    for i, batch in enumerate(frames):\n",
    "        video_length = batch.shape[0]\n",
    "        length = min(MAX_SEQ_LENGTH, video_length)\n",
    "        for j in range(length):\n",
    "            frame_features[i, j, :] = feature_extractor.predict(batch[None, j, :])\n",
    "        frame_mask[i, :length] = 1  # 1 = not masked, 0 = masked\n",
    "\n",
    "    return frame_features, frame_mask\n",
    "\n",
    "\n",
    "def sequence_prediction(path):\n",
    "    class_vocab = label_processor.get_vocabulary()\n",
    "\n",
    "    frames = load_video(os.path.join(\"test\", path))\n",
    "    frame_features, frame_mask = prepare_single_video(frames)\n",
    "    probabilities = sequence_model.predict([frame_features, frame_mask])[0]\n",
    "\n",
    "    for i in np.argsort(probabilities)[::-1]:\n",
    "        print(f\"  {class_vocab[i]}: {probabilities[i] * 100:5.2f}%\")\n",
    "    return frames\n",
    "\n",
    "cap = cv2.VideoCapture(0)\n",
    "\n",
    "test_video = np.random.choice(test_df[\"video_name\"].values.tolist())\n",
    "#test_video=cap\n",
    "print(f\"Test video path: {test_video}\")\n",
    "\n",
    "test_frames = sequence_prediction(test_video)\n"
   ]
  },
  {
   "cell_type": "code",
   "execution_count": 19,
   "id": "6309d87b",
   "metadata": {},
   "outputs": [
    {
     "data": {
      "text/html": [
       "\n",
       "    <video alt=\"test\" width=\"520\" height=\"440\" controls>\n",
       "        <source src=\"dataset/test/yoga/Dristi_shavasana.mp4\" type=\"video/mp4\" style=\"height:300px;width:300px\">\n",
       "    </video>\n"
      ],
      "text/plain": [
       "<IPython.core.display.HTML object>"
      ]
     },
     "execution_count": 19,
     "metadata": {},
     "output_type": "execute_result"
    }
   ],
   "source": [
    "from IPython.display import HTML\n",
    "\n",
    "HTML(\"\"\"\n",
    "    <video alt=\"test\" width=\"520\" height=\"440\" controls>\n",
    "        <source src=\"dataset/test/yoga/Dristi_shavasana.mp4\" type=\"video/mp4\" style=\"height:300px;width:300px\">\n",
    "    </video>\n",
    "\"\"\")\n"
   ]
  },
  {
   "cell_type": "code",
   "execution_count": null,
   "id": "6150d7e2",
   "metadata": {},
   "outputs": [],
   "source": []
  },
  {
   "cell_type": "code",
   "execution_count": null,
   "id": "0b16e337",
   "metadata": {},
   "outputs": [],
   "source": []
  },
  {
   "cell_type": "code",
   "execution_count": null,
   "id": "ad15f322",
   "metadata": {},
   "outputs": [],
   "source": []
  }
 ],
 "metadata": {
  "kernelspec": {
   "display_name": "Python 3 (ipykernel)",
   "language": "python",
   "name": "python3"
  },
  "language_info": {
   "codemirror_mode": {
    "name": "ipython",
    "version": 3
   },
   "file_extension": ".py",
   "mimetype": "text/x-python",
   "name": "python",
   "nbconvert_exporter": "python",
   "pygments_lexer": "ipython3",
   "version": "3.9.13"
  }
 },
 "nbformat": 4,
 "nbformat_minor": 5
}
